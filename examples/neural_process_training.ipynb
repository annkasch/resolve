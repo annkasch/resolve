{
 "cells": [
  {
   "cell_type": "code",
   "execution_count": 1,
   "metadata": {},
   "outputs": [],
   "source": [
    "import torch\n",
    "import torch.optim as optim\n",
    "import os\n",
    "from resolve.helpers.losses import log_prob\n",
    "from resolve.utilities import utilities as utils\n",
    "from resolve.helpers import DataGeneration\n",
    "from resolve.helpers import Trainer, ModelsManager\n",
    "from resolve.helpers import AsymmetricFocalWithFPPenalty, log_prob, recon_loss_mse, skip_loss, bce_with_logits, brier\n",
    "from torch.utils.tensorboard import SummaryWriter\n",
    "import yaml\n",
    "import json\n"
   ]
  },
  {
   "cell_type": "code",
   "execution_count": 2,
   "metadata": {},
   "outputs": [],
   "source": [
    "# Set the path to the yaml settings file here\n",
    "path_to_settings = \"./binary-black-hole/\"\n",
    "with open(f\"{path_to_settings}/settings.yaml\", \"r\") as f:\n",
    "    config_file = yaml.safe_load(f)\n",
    "\n",
    "torch.manual_seed(0)\n",
    "version = config_file[\"path_settings\"][\"version\"]\n",
    "path_out = f'{config_file[\"path_settings\"][\"path_out_model\"]}/model-{version}'"
   ]
  },
  {
   "cell_type": "code",
   "execution_count": 3,
   "metadata": {},
   "outputs": [],
   "source": [
    "model_name = config_file[\"model_settings\"][\"network\"][\"model_used\"]\n",
    "network_config = config_file[\"model_settings\"][\"network\"][\"models\"][model_name]\n",
    "network_config[\"d_y\"] = utils.get_feature_and_label_size(config_file)[1]\n",
    "network_config[\"d_theta\"]  = len(config_file[\"simulation_settings\"][\"theta_labels\"])\n",
    "network_config[\"d_phi\"] = len(config_file[\"simulation_settings\"][\"phi_labels\"])\n",
    "\n",
    "manager = ModelsManager(network_config)\n",
    "model = manager.get_network(config_file[\"model_settings\"][\"network\"][\"model_used\"])"
   ]
  },
  {
   "cell_type": "code",
   "execution_count": 4,
   "metadata": {},
   "outputs": [
    {
     "name": "stdout",
     "output_type": "stream",
     "text": [
      "positives ratio  tensor(0.0073)\n",
      "theta mean:  [1.50423200e-02 4.99557795e+00 5.00162000e+02 4.98470000e+02]\n",
      "phi mean:  [3.09912000e-02 1.38451402e+01 7.49881529e+01 3.83905393e+01\n",
      " 1.93798800e-01 5.03367206e-01 1.08481965e+02 1.17347808e+01\n",
      " 1.09972412e+01 9.90653600e-01]\n"
     ]
    }
   ],
   "source": [
    "# load data:\n",
    "dataset_train = DataGeneration(mode = \"train\", \n",
    "                                config_file=config_file\n",
    "                                )\n",
    "\n",
    "dataset_train.set_dataset()\n",
    "\n",
    "if config_file[\"model_settings\"][\"train\"][\"dataset\"][\"use_feature_normalization\"] == \"zscore\":\n",
    "    print(\"theta mean: \", dataset_train.dataset._normalizer._get_scaler(\"theta\").mean_)\n",
    "    print(\"phi mean: \", dataset_train.dataset._normalizer._get_scaler(\"phi\").mean_)\n",
    "elif config_file[\"model_settings\"][\"train\"][\"dataset\"][\"use_feature_normalization\"] == \"minmax\":\n",
    "    print(\"theta mean: \", dataset_train.dataset._normalizer._get_scaler(\"theta\").data_range_)\n",
    "    print(\"phi mean: \", dataset_train.dataset._normalizer._get_scaler(\"phi\").data_range_)\n",
    "\n"
   ]
  },
  {
   "cell_type": "code",
   "execution_count": 5,
   "metadata": {},
   "outputs": [],
   "source": [
    "os.system(f'mkdir -p {path_out}/model_{version}_tensorboard_logs')\n",
    "os.system(f'rm {path_out}/model_{version}_tensorboard_logs/events*')\n",
    "writer = SummaryWriter(log_dir=f'{path_out}/model_{version}_tensorboard_logs')"
   ]
  },
  {
   "cell_type": "code",
   "execution_count": 6,
   "metadata": {},
   "outputs": [
    {
     "name": "stdout",
     "output_type": "stream",
     "text": [
      "CPU times: user 866 ms, sys: 434 ms, total: 1.3 s\n",
      "Wall time: 354 ms\n"
     ]
    }
   ],
   "source": [
    "%%time\n",
    "optimizer = None if model.__class__.__name__ == \"IsolationForestWrapper\" else optim.Adam(model.parameters(), lr=config_file[\"model_settings\"][\"train\"][\"learning_rate\"])\n",
    "\n",
    "# Instantiate the training wrapper for the first phase\n",
    "trainer = Trainer(model, dataset_train)\n",
    "\n",
    "trainer.epochs = config_file[\"model_settings\"][\"train\"][\"training_epochs\"]\n",
    "\n",
    "if utils.get_nested(config_file, [\"model_settings\",\"train\",\"dataset\",\"use_schedule\"], False) == True:\n",
    "        trainer.criterion = AsymmetricFocalWithFPPenalty(\n",
    "                        alpha_pos=1.,\n",
    "                        alpha_neg=1.,\n",
    "                        gamma_pos=0.,\n",
    "                        gamma_neg=0.,\n",
    "                        lambda_fp=0.,\n",
    "                        tau_fp=0.5,\n",
    "                        lambda_tp= 0.,\n",
    "                        tau_tp=0.5,\n",
    "                        reduction=utils.get_nested(config_file, [\"model_settings\",\"train\",\"loss\",\"reduction\"], \"mean\"),\n",
    "                        base_loss_fn=globals()[utils.get_nested(config_file, [\"model_settings\",\"train\",\"loss\",\"base_loss_fn\"], \"bce_with_logits\")],\n",
    "                )\n",
    "\n",
    "        if utils.get_nested(config_file, [\"model_settings\",\"train\",\"dataset\",\"skip_warmup\"], False) == True:\n",
    "                print(\"loading warm up\")\n",
    "                model.load_state_dict(torch.load(f'{path_out}/model_{version}_warmup_model.pth'))\n",
    "        else:\n",
    "                # Train the model\n",
    "                summary_train = trainer.warm_up(target_pos_frac = utils.get_nested(config_file, [\"model_settings\",\"train\",\"dataset\",\"positive_ratio_train\"], None),\n",
    "                        optimizer= optimizer,\n",
    "                        writer=writer,\n",
    "                        monitor = \"pr_auc\",\n",
    "                        mode = \"max\",\n",
    "                        save_best = True,\n",
    "                        patience = 20,\n",
    "                        max_epochs_per_phase = 2)\n",
    "\n",
    "                torch.save(model.state_dict(), f'{path_out}/model_{version}_warmup_model.pth')\n"
   ]
  },
  {
   "cell_type": "code",
   "execution_count": 7,
   "metadata": {},
   "outputs": [
    {
     "name": "stderr",
     "output_type": "stream",
     "text": [
      "train 1/1: 100%|██████████| 3000/3000 [00:53<00:00, 55.71it/s, loss=0.0075]\n",
      "validate 1: 100%|██████████| 1000/1000 [00:11<00:00, 86.23it/s, loss=0.0077]\n"
     ]
    },
    {
     "name": "stdout",
     "output_type": "stream",
     "text": [
      "1 1 0 1\n",
      "CPU times: user 48.3 s, sys: 10.8 s, total: 59.1 s\n",
      "Wall time: 1min 9s\n"
     ]
    }
   ],
   "source": [
    "%%time\n",
    "\n",
    "trainer.criterion = AsymmetricFocalWithFPPenalty(\n",
    "                alpha_pos=utils.get_nested(config_file, [\"model_settings\",\"train\",\"loss\",\"alpha_pos\"], 1.),\n",
    "                alpha_neg=utils.get_nested(config_file, [\"model_settings\",\"train\",\"loss\",\"alpha_neg\"], 1.),\n",
    "                gamma_pos=utils.get_nested(config_file, [\"model_settings\",\"train\",\"loss\",\"gamma_pos\"], 0.),\n",
    "                gamma_neg=utils.get_nested(config_file, [\"model_settings\",\"train\",\"loss\",\"gamma_neg\"], 0.),\n",
    "                lambda_fp=utils.get_nested(config_file, [\"model_settings\",\"train\",\"loss\",\"lambda_fp\"],0.),\n",
    "                tau_fp=utils.get_nested(config_file, [\"model_settings\",\"train\",\"loss\",\"tau_fp\"],0.5),\n",
    "                lambda_tp=utils.get_nested(config_file, [\"model_settings\",\"train\",\"loss\",\"lambda_tp\"],0.),\n",
    "                tau_tp=utils.get_nested(config_file, [\"model_settings\",\"train\",\"loss\",\"tau_tp\"],0.5),\n",
    "                reduction=utils.get_nested(config_file, [\"model_settings\",\"train\",\"loss\",\"reduction\"], \"mean\"),\n",
    "                base_loss_fn=globals()[utils.get_nested(config_file, [\"model_settings\",\"train\",\"loss\",\"base_loss_fn\"], \"bce_with_logits\")],\n",
    "            )\n",
    "\n",
    "# Train the model\n",
    "summary_train = trainer.fit(optimizer=optimizer, patience = 5, writer=writer, ckpt_dir=f\"{path_out}/checkpoints\", ckpt_name=f\"model_{version}_best.pt\",\n",
    "        monitor=\"pr_auc\", mode=\"max\")\n"
   ]
  },
  {
   "cell_type": "code",
   "execution_count": 8,
   "metadata": {},
   "outputs": [
    {
     "data": {
      "text/plain": [
       "{'best_score': 0.22722284089658285,\n",
       " 'monitor': 'pr_auc',\n",
       " 'mode': 'max',\n",
       " 'epochs_ran': 1}"
      ]
     },
     "execution_count": 8,
     "metadata": {},
     "output_type": "execute_result"
    }
   ],
   "source": [
    "summary_train"
   ]
  },
  {
   "cell_type": "code",
   "execution_count": 9,
   "metadata": {},
   "outputs": [
    {
     "name": "stderr",
     "output_type": "stream",
     "text": [
      "test 0: 100%|██████████| 1000/1000 [00:11<00:00, 87.82it/s, loss=0.0077]\n"
     ]
    },
    {
     "name": "stdout",
     "output_type": "stream",
     "text": [
      "0 1 0 0\n"
     ]
    }
   ],
   "source": [
    "_ = trainer.evaluate(writer=writer, dataset_name=\"test\")"
   ]
  },
  {
   "cell_type": "code",
   "execution_count": 10,
   "metadata": {},
   "outputs": [
    {
     "data": {
      "text/plain": [
       "{'accuracy': 0.992639,\n",
       " 'precision': 0.0,\n",
       " 'recall': 0.0,\n",
       " 'f1': 0.0,\n",
       " 'roc_auc': 0.9765002199256927,\n",
       " 'roc_curve': [array([0.00000000e+00, 1.00741559e-06, 2.01483117e-06, ...,\n",
       "         9.99466070e-01, 9.99468085e-01, 1.00000000e+00]),\n",
       "  array([0., 0., 0., ..., 1., 1., 1.])],\n",
       " 'pr_auc': 0.23284604941450146,\n",
       " 'precision_recall_curve': [array([0.007361  , 0.00736101, 0.00736101, ..., 0.        , 0.        ,\n",
       "         1.        ]),\n",
       "  array([1., 1., 1., ..., 0., 0., 0.]),\n",
       "  0.007361],\n",
       " 'loss': 0.007699200638802722}"
      ]
     },
     "execution_count": 10,
     "metadata": {},
     "output_type": "execute_result"
    }
   ],
   "source": [
    "trainer.metrics[\"test\"]\n"
   ]
  },
  {
   "cell_type": "code",
   "execution_count": null,
   "metadata": {},
   "outputs": [
    {
     "name": "stderr",
     "output_type": "stream",
     "text": [
      "test 1: 100%|██████████| 1000/1000 [00:12<00:00, 82.71it/s, loss=0.0077]\n"
     ]
    },
    {
     "name": "stdout",
     "output_type": "stream",
     "text": [
      "1 1 0 1\n",
      "0.24631837608164708\n"
     ]
    }
   ],
   "source": [
    "normalizer_train = dataset_train.dataset._normalizer\n",
    "\n",
    "# load data:\n",
    "dataset_predict = DataGeneration(mode = \"test\", \n",
    "                                config_file=config_file\n",
    "                                )\n",
    "dataset_predict.set_dataset(normalizer_train)\n",
    "\n",
    "tester = Trainer(model, dataset_predict, epochs=1)\n",
    "tester._report = 1\n",
    "tester.criterion = trainer.criterion\n",
    "\n",
    "# Train the model\n",
    "summary_test = tester.evaluate(dataset_name=\"test\", epoch=1, monitor=\"pr_auc\",writer=writer)\n",
    "\n"
   ]
  },
  {
   "cell_type": "code",
   "execution_count": 13,
   "metadata": {},
   "outputs": [],
   "source": [
    "tester.metrics['test_2'] = tester.metrics.pop('test')\n",
    "trainer.metrics |= tester.metrics"
   ]
  },
  {
   "cell_type": "code",
   "execution_count": null,
   "metadata": {},
   "outputs": [
    {
     "data": {
      "text/plain": [
       "{'train': {'accuracy': 0.992273,\n",
       "  'precision': 0.007960199004975124,\n",
       "  'recall': 0.0003604902667627974,\n",
       "  'f1': 0.0006897443634952796,\n",
       "  'roc_auc': 0.9662689436327263,\n",
       "  'roc_curve': [array([0.00000000e+00, 3.35817487e-07, 5.07084406e-05, ...,\n",
       "          9.99824032e-01, 9.99824703e-01, 1.00000000e+00]),\n",
       "   array([0., 0., 0., ..., 1., 1., 1.])],\n",
       "  'pr_auc': 0.1383003689356554,\n",
       "  'precision_recall_curve': [array([0.00739733, 0.00739734, 0.00739734, ..., 0.        , 0.        ,\n",
       "          1.        ]),\n",
       "   array([1., 1., 1., ..., 0., 0., 0.]),\n",
       "   0.007397333333333333],\n",
       "  'loss': 0.007499187040802401},\n",
       " 'validate': {'accuracy': 0.992831,\n",
       "  'precision': 0.0,\n",
       "  'recall': 0.0,\n",
       "  'f1': 0.0,\n",
       "  'roc_auc': 0.97622376030108,\n",
       "  'roc_curve': [array([0.        , 0.        , 0.        , ..., 0.99911062, 0.99911264,\n",
       "          1.        ]),\n",
       "   array([0.00000000e+00, 1.39489469e-04, 6.97447343e-04, ...,\n",
       "          1.00000000e+00, 1.00000000e+00, 1.00000000e+00])],\n",
       "  'pr_auc': 0.22722284089658285,\n",
       "  'precision_recall_curve': [array([0.007169  , 0.00716901, 0.00716901, ..., 1.        , 1.        ,\n",
       "          1.        ]),\n",
       "   array([1.00000000e+00, 1.00000000e+00, 1.00000000e+00, ...,\n",
       "          2.78978937e-04, 1.39489469e-04, 0.00000000e+00]),\n",
       "   0.007169],\n",
       "  'loss': 0.007651102449279279},\n",
       " 'best_model': {'best_score': 0.22722284089658285,\n",
       "  'monitor': 'pr_auc',\n",
       "  'mode': 'max',\n",
       "  'epochs_ran': 1},\n",
       " 'test': {'accuracy': 0.992639,\n",
       "  'precision': 0.0,\n",
       "  'recall': 0.0,\n",
       "  'f1': 0.0,\n",
       "  'roc_auc': 0.9765002199256927,\n",
       "  'roc_curve': [array([0.00000000e+00, 1.00741559e-06, 2.01483117e-06, ...,\n",
       "          9.99466070e-01, 9.99468085e-01, 1.00000000e+00]),\n",
       "   array([0., 0., 0., ..., 1., 1., 1.])],\n",
       "  'pr_auc': 0.23284604941450146,\n",
       "  'precision_recall_curve': [array([0.007361  , 0.00736101, 0.00736101, ..., 0.        , 0.        ,\n",
       "          1.        ]),\n",
       "   array([1., 1., 1., ..., 0., 0., 0.]),\n",
       "   0.007361],\n",
       "  'loss': 0.007699200638802722},\n",
       " 'test_2': {'accuracy': 0.992304,\n",
       "  'precision': 0.0,\n",
       "  'recall': 0.0,\n",
       "  'f1': 0.0,\n",
       "  'roc_auc': 0.9775704242799571,\n",
       "  'roc_curve': [array([0.        , 0.        , 0.        , ..., 0.99870403, 0.99870604,\n",
       "          1.        ]),\n",
       "   array([0.0000000e+00, 1.2993763e-04, 5.1975052e-04, ..., 1.0000000e+00,\n",
       "          1.0000000e+00, 1.0000000e+00])],\n",
       "  'pr_auc': 0.24631837608164708,\n",
       "  'precision_recall_curve': [array([0.007696  , 0.00769601, 0.00769602, ..., 1.        , 1.        ,\n",
       "          1.        ]),\n",
       "   array([1.0000000e+00, 1.0000000e+00, 1.0000000e+00, ..., 2.5987526e-04,\n",
       "          1.2993763e-04, 0.0000000e+00]),\n",
       "   0.007696],\n",
       "  'loss': 0.007696162666194141}}"
      ]
     },
     "execution_count": 14,
     "metadata": {},
     "output_type": "execute_result"
    }
   ],
   "source": [
    "trainer.metrics['test_2']"
   ]
  },
  {
   "cell_type": "code",
   "execution_count": 15,
   "metadata": {},
   "outputs": [],
   "source": [
    "torch.save(model.state_dict(), f'{path_out}/model_{version}_model.pth')\n",
    "with open(f'{path_out}/model_{version}_settings.yaml', \"w\") as f:\n",
    "    yaml.safe_dump(dataset_train.config_file, f)"
   ]
  },
  {
   "cell_type": "code",
   "execution_count": 16,
   "metadata": {},
   "outputs": [],
   "source": [
    "safe_metrics = utils.make_json_safe(trainer.metrics)\n",
    "\n",
    "with open(f'{path_out}/model_{version}_train_metrics.json', \"w\") as f:\n",
    "    json.dump({model.__class__.__name__: safe_metrics}, f, indent=4)"
   ]
  },
  {
   "cell_type": "code",
   "execution_count": 17,
   "metadata": {},
   "outputs": [],
   "source": [
    "dataset_train.dataset.close()\n",
    "writer.close()\n",
    "utils.cleanup_workspace({})"
   ]
  },
  {
   "cell_type": "markdown",
   "metadata": {},
   "source": [
    "###  Start TensorBoard\n",
    "\n",
    "Run this in terminal:\n",
    "\n",
    "tensorboard --logdir=\\<path to tensor board log dir\\> --host=0.0.0.0 --port=7007\n",
    "\n",
    "Open:\n",
    "\n",
    "http://localhost:7007/"
   ]
  },
  {
   "cell_type": "markdown",
   "metadata": {},
   "source": [
    "Check effiency performance & memory use\n",
    "\n",
    "for memory:\n",
    "    \n",
    "    from memory_profiler import profile\n",
    "\n",
    "    @profile\n",
    "    def your_function():\n",
    "\n",
    "> python -m memory_profiler your_script.py  > mem_profile.txt"
   ]
  },
  {
   "cell_type": "markdown",
   "metadata": {},
   "source": [
    "> python -m cProfile -s tottime your_script.py\n",
    "> sudo py-spy top -- python your_script.py\n",
    " \n",
    "> sudo py-spy record -o loader.svg -- python your_script.py"
   ]
  },
  {
   "cell_type": "markdown",
   "metadata": {},
   "source": []
  }
 ],
 "metadata": {
  "kernelspec": {
   "display_name": "resolve-py3.11",
   "language": "python",
   "name": "python3"
  },
  "language_info": {
   "codemirror_mode": {
    "name": "ipython",
    "version": 3
   },
   "file_extension": ".py",
   "mimetype": "text/x-python",
   "name": "python",
   "nbconvert_exporter": "python",
   "pygments_lexer": "ipython3",
   "version": "3.11.13"
  }
 },
 "nbformat": 4,
 "nbformat_minor": 2
}
